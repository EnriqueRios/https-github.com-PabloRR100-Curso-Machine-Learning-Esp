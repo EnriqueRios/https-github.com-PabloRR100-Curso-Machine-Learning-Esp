{
 "cells": [
  {
   "cell_type": "markdown",
   "metadata": {},
   "source": [
    "# 1 - Machine Learning Introduction\n",
    "---"
   ]
  },
  {
   "cell_type": "markdown",
   "metadata": {},
   "source": [
    "Machine Learning es un conjunto de técnicas que permiten a los ordenadores realizar tareas de alta complejidas, propias de los seres humanos. \n",
    "\n",
    "Esta forma de aprender se basa en el paradigma 'Aprender de la experiencia'.  \n",
    "\n",
    "Los algoritmos de ML reciben datos, los cuales conforman esta experiencia; para identificar patrones en ellos, los cuales conforman el aprender. \n"
   ]
  },
  {
   "cell_type": "code",
   "execution_count": null,
   "metadata": {},
   "outputs": [],
   "source": []
  }
 ],
 "metadata": {
  "kernelspec": {
   "display_name": "Python 3",
   "language": "python",
   "name": "python3"
  },
  "language_info": {
   "codemirror_mode": {
    "name": "ipython",
    "version": 3
   },
   "file_extension": ".py",
   "mimetype": "text/x-python",
   "name": "python",
   "nbconvert_exporter": "python",
   "pygments_lexer": "ipython3",
   "version": "3.6.3"
  }
 },
 "nbformat": 4,
 "nbformat_minor": 2
}
