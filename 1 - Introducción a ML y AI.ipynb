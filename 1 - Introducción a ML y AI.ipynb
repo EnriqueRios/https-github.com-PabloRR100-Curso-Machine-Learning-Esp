{
 "cells": [
  {
   "cell_type": "markdown",
   "metadata": {},
   "source": [
    "# 1 - Machine Learning Introduction\n",
    "---"
   ]
  },
  {
   "cell_type": "markdown",
   "metadata": {},
   "source": [
    "<img src='./Imagenes/ML.png' style='width:20%;height:20%;float:left;margin-right:20px'>  \n",
    "\n",
    "<br>\n",
    "Machine Learning es un conjunto de técnicas que permiten a los ordenadores realizar tareas de alta complejidas, propias de los seres humanos. \n",
    "\n",
    "Esta forma de aprender se basa en el paradigma 'Aprender de la experiencia'.  \n",
    "Los algoritmos de ML reciben datos, los cuales conforman esta experiencia; para identificar patrones en ellos, los cuales conforman el aprender. \n",
    "\n"
   ]
  },
  {
   "cell_type": "markdown",
   "metadata": {},
   "source": [
    "#### ¿Cómo generamos la experiencia y cómo sabemos que aprende?"
   ]
  },
  {
   "cell_type": "markdown",
   "metadata": {},
   "source": [
    "Veréis que en los problemas de Machine Learning que entran dentro del aprendizaje supervisado (casi todos) el conjunto de datos del que se dispone se dividará en dos bloques:\n",
    "\n",
    "\n",
    "El conjunto de entrenamiento (__train set__): es la mayoría de los datos (en torno a un 80%) y son los datos que se utilizarán para que nuestros modelos (regresores o clasificadores) aprendan a entender las relaciones entre nuestros datos.\n",
    "\n",
    "El cojunto de validación (__test set__): es el conjunto restante. Este conjunto se utilizará para comprobar que con el entramiento realizado la máquina es capaz de generar buenas conclusiones con información que no ha visto antes"
   ]
  }
 ],
 "metadata": {
  "kernelspec": {
   "display_name": "Python 3",
   "language": "python",
   "name": "python3"
  },
  "language_info": {
   "codemirror_mode": {
    "name": "ipython",
    "version": 3
   },
   "file_extension": ".py",
   "mimetype": "text/x-python",
   "name": "python",
   "nbconvert_exporter": "python",
   "pygments_lexer": "ipython3",
   "version": "3.6.4"
  }
 },
 "nbformat": 4,
 "nbformat_minor": 2
}
