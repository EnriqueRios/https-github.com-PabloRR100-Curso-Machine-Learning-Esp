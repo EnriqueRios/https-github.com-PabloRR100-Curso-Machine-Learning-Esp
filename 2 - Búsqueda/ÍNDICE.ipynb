{
 "cells": [
  {
   "cell_type": "markdown",
   "metadata": {},
   "source": [
    "# BÚSQUEDA\n",
    "---\n",
    "\n",
    "1. [Introducción Teórica]()\n",
    "\n",
    "&nbsp;&nbsp;&nbsp;&nbsp;&nbsp;&nbsp;1. Introducción\n",
    "&nbsp;&nbsp;&nbsp;&nbsp;&nbsp;&nbsp;2. Tipos de la Búsqueda\n",
    "&nbsp;&nbsp;&nbsp;&nbsp;&nbsp;&nbsp;3. Búsquedas Desinformadas\n",
    "&nbsp;&nbsp;&nbsp;&nbsp;&nbsp;&nbsp;    - Búsqueda en Amplitud\n",
    "&nbsp;&nbsp;&nbsp;&nbsp;&nbsp;&nbsp;    - Búsqueda en Profundidad\n",
    "&nbsp;&nbsp;&nbsp;&nbsp;&nbsp;&nbsp;    - Búsuqeda en Profundidad Acotada\n",
    "&nbsp;&nbsp;&nbsp;&nbsp;&nbsp;&nbsp;    - Búsqueda en Profundidad Iterativa\n",
    "&nbsp;&nbsp;&nbsp;&nbsp;&nbsp;&nbsp;    - Búsqueda de Coste Uniforme\n",
    "&nbsp;&nbsp;&nbsp;&nbsp;&nbsp;&nbsp;4. Búsquedas Informadas\n",
    "&nbsp;&nbsp;&nbsp;&nbsp;&nbsp;&nbsp;    - Búsqueda Mejor el Primero\n",
    "&nbsp;&nbsp;&nbsp;&nbsp;&nbsp;&nbsp;    - A*\n",
    "\n",
    "2.[ Problema Puzzle-8]()\n"
   ]
  }
 ],
 "metadata": {
  "kernelspec": {
   "display_name": "Python 3",
   "language": "python",
   "name": "python3"
  },
  "language_info": {
   "codemirror_mode": {
    "name": "ipython",
    "version": 3
   },
   "file_extension": ".py",
   "mimetype": "text/x-python",
   "name": "python",
   "nbconvert_exporter": "python",
   "pygments_lexer": "ipython3",
   "version": "3.6.4"
  }
 },
 "nbformat": 4,
 "nbformat_minor": 2
}
