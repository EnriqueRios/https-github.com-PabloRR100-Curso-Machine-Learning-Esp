{
 "cells": [
  {
   "cell_type": "markdown",
   "metadata": {},
   "source": [
    "# Regresión Lineal\n",
    "---"
   ]
  },
  {
   "cell_type": "markdown",
   "metadata": {},
   "source": [
    "En estadística la regresión lineal o ajuste lineal es un modelo matemático usado para aproximar la relación de dependencia entre una variable dependiente Y, las variables independientes Xi y un término aleatorio ε.  \n",
    "*Para simplificar, empezaremos la explicación con una única variable independiente; luego:* Ŷ = f(X) + ε.  \n",
    "*Este sería el caso en el que, por ejemplo, quisiéramos saber la relación entre las horas de estudio y la nota que sacaré en un examen* \n",
    "\n",
    "<img src='https://upload.wikimedia.org/wikipedia/commons/3/3a/Linear_regression.svg'>\n",
    "\n",
    "En el contexto de un problema real, la inforamción que dispondremos serán las observaciones que corresponden con los puntos azules. A través de ellos, queremos explicar el compartamiento de la respuesta en función de los valores de las variables independiente **para todo el rango de valores** que dichas variables puedan tomar, de la mejor manera posible. Esto quiere decir, **minimizando** la desviación del resultado del modelo con los valores reales.  \n",
    "\n",
    "El método más común utilizado para encontrar esta minimización es conocido como el **método de mínimos cuadrados**."
   ]
  },
  {
   "cell_type": "markdown",
   "metadata": {},
   "source": [
    "### Mínimos Cuadrados\n",
    "---\n",
    "\n",
    "Es importante tener claros conceptos que son muy sencillos, y que son fundamentales ya que son la piedra angular \n",
    "de todo lo demás que se construye encima de ellos. Este método es uno de estos conceptos que, insisto, son muy sencillos.  \n",
    "\n",
    "Recapitulando la definición de modelo, al final lo que vamos a conseguir es una **función** que, como todas las demas, ante determinados valores me va a dar una salida. Como su nombre indica en el modelo que vamos a construir en esta sección (regresión **lineal**), la forma de las salidas del modelo será una línea recta.  \n",
    "\n",
    "Para todos los modelos, las salidas calculadas se definen con un *sombrero* encima del nombre de la variable, **ŷ**, y suele recibir el nombre de ajuste (si es en el conjunto de entrenamiento) o predición (si en el conjunto de validación).   \n",
    "\n",
    "Por tanto, el error de un ajuste, será la diferencia entre el valor real (el valor que ya habíamos observado para una Xi), y la salida que da nuestro modelo cuando sustituimos Xi, como se puede ver en el siguiente gráfico. \n",
    "\n",
    "ε = ŷ - y = ŷ - f(x)\n",
    "\n",
    "<img src='http://www.sc.ehu.es/sbweb/fisica/cinematica/regresion/Cine_23.gif'>\n",
    "\n",
    "Ahora ya es fácil entender lo que hace el método de mínimos cuadrados. Y es que, como su nombre indica, buscará aquella recta que minimice la suma de los cuadrados de los errores ε.  \n",
    "\n",
    "**Nota:** en realidad minimiza el error cuadrático medio. Pero si nos damos cuenta, hacer la media del error es simplemente dividir la suma que ya hemos calculado entre el número total de muestras, y hacer la raíz cuadrada de todo eso (porque era la suma de los cuadrados de los errores).  \n",
    "\n"
   ]
  },
  {
   "cell_type": "markdown",
   "metadata": {},
   "source": [
    "### Hipótesis de la Regresión Lineal\n",
    "---\n",
    "**Muy Importante**"
   ]
  },
  {
   "cell_type": "markdown",
   "metadata": {},
   "source": [
    "### Creación del modelo\n",
    "---\n",
    "Ha llegado el momento de dar forma a f(X).  \n",
    "Como estamos simplificando para el caso de 1 sola variables independiente, nuestro modelo tendrá la siguiente forma inicial:\n",
    "\n",
    "<img src='../Imagenes/regresion_lineal/ec_RL.png'>  \n",
    "\n",
    "β0 y β1 son los coeficientes que tenemos que determinar. β0 recibe el nombre de **intercept** y es la ordenada en el origen; mientras que β1 recibe el nombre de **slope** y es la pendiente de nuestra recta.  \n",
    "\n",
    "Calculando la esperanza de Y, y sabiendo que los errores siguen una distribución normalm εi ∼ N(0,σ2):\n",
    "\n",
    "<img src='../Imagenes/regresion_lineal/ec_RL_y_hat.png'>  \n",
    "\n",
    "Y como queremos minimizar la suma de los cuadrados de los errores, podemos diferenciar con respecto a β0 y β1 para determinar que valores de estos parámetros minimizan el valor de dicha suma. Es decir, resolver un problema básico de optimización haciendo que las derivadas valgan 0:\n",
    "\n",
    "<img src='../Imagenes/regresion_lineal/ec_RL_d.png'>  \n",
    "\n",
    "Desarrollando las integrales nos queda un sistema de 2 ecuaciones con 2 incóginitas, β0 y β1.\n",
    "\n",
    "<img src='../Imagenes/regresion_lineal/ec_RL_solv.png'>  "
   ]
  },
  {
   "cell_type": "markdown",
   "metadata": {},
   "source": [
    "# Código\n",
    "---\n",
    "\n",
    "## Crear datos\n",
    "---\n",
    "\n",
    "La manera más rápida y segura muchas veces de comprobar que los modelos que creamos tienen sentido, es probar con datos generados artificialmente, se suele denominar **syntetic data**. Crear datos no es más que generar una series de valores para la X, una señal de ruido (valores aleatorios distribuidos de forma normal) que será ε y dar valores a β0 y β1 para generar así los valores de Y.  \n",
    "\n",
    "Entonces:"
   ]
  },
  {
   "cell_type": "code",
   "execution_count": 23,
   "metadata": {},
   "outputs": [],
   "source": [
    "import numpy as np\n",
    "\n",
    "e = np.random.random(10) * 2 # Esto crea 10 valores aleatorios entre 0 y 2\n",
    "X = np.random.random(10) * 5 # Esto crea 10 valores aleatorios entre 0 y 5\n",
    "Y = 2 + 3*X + e              # Esto crea 10 valores para las Y en función de X y e"
   ]
  },
  {
   "cell_type": "code",
   "execution_count": 24,
   "metadata": {},
   "outputs": [
    {
     "name": "stdout",
     "output_type": "stream",
     "text": [
      "(10,)\n",
      "(10,)\n",
      "(10,)\n"
     ]
    }
   ],
   "source": [
    "print(e.shape)\n",
    "print(X.shape)\n",
    "print(Y.shape)"
   ]
  },
  {
   "cell_type": "markdown",
   "metadata": {},
   "source": [
    "Este último comando era para ver que actualmente tenemos vectores **unidimensionales**. Si queremos trabajar con otra librería como Pandas, necesitamos 2 dimensiones. Para ajustar podemos utilizar la funcionde Numpy **reshape**"
   ]
  },
  {
   "cell_type": "code",
   "execution_count": 25,
   "metadata": {},
   "outputs": [
    {
     "name": "stdout",
     "output_type": "stream",
     "text": [
      "(10, 1)\n",
      "(10, 1)\n",
      "(10, 1)\n"
     ]
    }
   ],
   "source": [
    "e = e.reshape(10,1)\n",
    "X = X.reshape(X.shape[0],1)\n",
    "Y = Y.reshape(-1,1)\n",
    "\n",
    "print(e.shape)\n",
    "print(X.shape)\n",
    "print(Y.shape)"
   ]
  },
  {
   "cell_type": "markdown",
   "metadata": {},
   "source": [
    "Aquí vemos 3 formas distintas de definir lo que queremos hacer. \n",
    "* Poniendo directamente el número 10\n",
    "* Diciendo que queremos que tenga la misma longitud que previamente X.shape(-1), \n",
    "* Diciendo que los que sea necesario para que se ajuste con la otra dimesión, -1."
   ]
  },
  {
   "cell_type": "code",
   "execution_count": 34,
   "metadata": {},
   "outputs": [
    {
     "data": {
      "text/html": [
       "<div>\n",
       "<style scoped>\n",
       "    .dataframe tbody tr th:only-of-type {\n",
       "        vertical-align: middle;\n",
       "    }\n",
       "\n",
       "    .dataframe tbody tr th {\n",
       "        vertical-align: top;\n",
       "    }\n",
       "\n",
       "    .dataframe thead th {\n",
       "        text-align: right;\n",
       "    }\n",
       "</style>\n",
       "<table border=\"1\" class=\"dataframe\">\n",
       "  <thead>\n",
       "    <tr style=\"text-align: right;\">\n",
       "      <th></th>\n",
       "      <th>Y</th>\n",
       "      <th>X</th>\n",
       "      <th>e</th>\n",
       "    </tr>\n",
       "  </thead>\n",
       "  <tbody>\n",
       "    <tr>\n",
       "      <th>0</th>\n",
       "      <td>10.943664</td>\n",
       "      <td>2.970188</td>\n",
       "      <td>0.033100</td>\n",
       "    </tr>\n",
       "    <tr>\n",
       "      <th>1</th>\n",
       "      <td>5.089787</td>\n",
       "      <td>0.956551</td>\n",
       "      <td>0.220136</td>\n",
       "    </tr>\n",
       "    <tr>\n",
       "      <th>2</th>\n",
       "      <td>4.538791</td>\n",
       "      <td>0.675643</td>\n",
       "      <td>0.511864</td>\n",
       "    </tr>\n",
       "    <tr>\n",
       "      <th>3</th>\n",
       "      <td>12.557144</td>\n",
       "      <td>3.293462</td>\n",
       "      <td>0.676759</td>\n",
       "    </tr>\n",
       "    <tr>\n",
       "      <th>4</th>\n",
       "      <td>10.577999</td>\n",
       "      <td>2.391231</td>\n",
       "      <td>1.404306</td>\n",
       "    </tr>\n",
       "  </tbody>\n",
       "</table>\n",
       "</div>"
      ],
      "text/plain": [
       "           Y         X         e\n",
       "0  10.943664  2.970188  0.033100\n",
       "1   5.089787  0.956551  0.220136\n",
       "2   4.538791  0.675643  0.511864\n",
       "3  12.557144  3.293462  0.676759\n",
       "4  10.577999  2.391231  1.404306"
      ]
     },
     "execution_count": 34,
     "metadata": {},
     "output_type": "execute_result"
    }
   ],
   "source": [
    "import pandas as pd\n",
    "\n",
    "data = np.concatenate((Y, X, e), axis=1)       # Esto acopla las variables que hemos creado por columnas\n",
    "df = pd.DataFrame(data, columns=['Y', 'X', 'e'])  # Y ahora les damos el formato de tabla gracias a Pandas\n",
    "df.head(5)   # dataframe.head(n) es una función para mostrar las primeros n filas de la tabla 'dataframe'"
   ]
  },
  {
   "cell_type": "markdown",
   "metadata": {},
   "source": [
    "Ahora podemos utilizar Matplotlib para en lugar de ver una tabla, producir un gráfico (el poder de las imagénes!)"
   ]
  },
  {
   "cell_type": "code",
   "execution_count": 49,
   "metadata": {},
   "outputs": [
    {
     "data": {
      "image/png": "[encoded data removed]",
      "text/plain": [
       "<matplotlib.figure.Figure at 0x10dfa9dd8>"
      ]
     },
     "metadata": {},
     "output_type": "display_data"
    }
   ],
   "source": [
    "import matplotlib.pyplot as plt\n",
    "% matplotlib inline\n",
    "\n",
    "plt.figure(figsize=(20,6))\n",
    "plt.title('Datos Iniciales')\n",
    "plt.scatter(X, Y, color='black') # Gráfico de dispersión (puntos)\n",
    "plt.show()"
   ]
  },
  {
   "cell_type": "markdown",
   "metadata": {},
   "source": [
    "Vemos que nuestros datos parecen presentar un comportamiento lineal, y por eso decidimos realizar una regresión lineal.  \n",
    "\n",
    "Vamos entonces a utilizar las ecuaciones que disponemos:"
   ]
  },
  {
   "cell_type": "code",
   "execution_count": 42,
   "metadata": {},
   "outputs": [
    {
     "name": "stdout",
     "output_type": "stream",
     "text": [
      "2.3316962368696665\n",
      "9.785052768335518\n"
     ]
    }
   ],
   "source": [
    "x_media = np.mean(X) # Con numpy.mean(vector) podemos directamente calcular la media de un conjunto de valores\n",
    "y_media = np.mean(Y) # en forma de vector\n",
    "\n",
    "print(x_media)\n",
    "print(y_media)"
   ]
  },
  {
   "cell_type": "code",
   "execution_count": 45,
   "metadata": {},
   "outputs": [
    {
     "data": {
      "text/plain": [
       "array([[ 1.15861141],\n",
       "       [-4.69526531],\n",
       "       [-5.24626135],\n",
       "       [ 2.77209091],\n",
       "       [ 0.79294592],\n",
       "       [-6.25234204],\n",
       "       [ 8.52281195],\n",
       "       [ 2.03555371],\n",
       "       [ 6.26267766],\n",
       "       [-5.35082286]])"
      ]
     },
     "execution_count": 45,
     "metadata": {},
     "output_type": "execute_result"
    }
   ],
   "source": [
    "Y - y_media"
   ]
  },
  {
   "cell_type": "code",
   "execution_count": 46,
   "metadata": {},
   "outputs": [
    {
     "name": "stdout",
     "output_type": "stream",
     "text": [
      "β0 =  2.0888113755921305\n",
      "β1 =  3.3007049850866057\n"
     ]
    }
   ],
   "source": [
    "beta_1 = np.sum((X - x_media)*(Y - y_media)) / np.sum((X - x_media)**2)\n",
    "beta_0 = y_media - beta_1*x_media\n",
    "\n",
    "print('β0 = ', beta_0)\n",
    "print('β1 = ', beta_1)"
   ]
  },
  {
   "cell_type": "markdown",
   "metadata": {},
   "source": [
    "Por lo tanto, nuestra ecuación será:"
   ]
  },
  {
   "cell_type": "code",
   "execution_count": 47,
   "metadata": {},
   "outputs": [],
   "source": [
    "y_hat = beta_0 + beta_1*X"
   ]
  },
  {
   "cell_type": "markdown",
   "metadata": {},
   "source": [
    "Ahora, podemos representar la salida de los valores de nuestro modelo para los valores de la X y comprobar qué tal está ajustandose a los datos:"
   ]
  },
  {
   "cell_type": "code",
   "execution_count": 53,
   "metadata": {},
   "outputs": [
    {
     "data": {
      "image/png": "[encoded data removed]",
      "text/plain": [
       "<matplotlib.figure.Figure at 0x10db4b2e8>"
      ]
     },
     "metadata": {},
     "output_type": "display_data"
    }
   ],
   "source": [
    "plt.figure(figsize=(20,6))\n",
    "plt.title('Datos Iniciales vs Predicciones')\n",
    "plt.scatter(X, Y, color='black', label='Datos reales') \n",
    "plt.scatter(X, y_hat, color='red', label='Datos ajustados por regresión') \n",
    "plt.plot(X, y_hat, linewidth=0.2, color='red', label='Recta de regresión')\n",
    "plt.legend()\n",
    "plt.show()"
   ]
  },
  {
   "cell_type": "markdown",
   "metadata": {},
   "source": [
    "**RMSE** (*Root Mean Squared Error*) es una medida para medir la precisión del modelo. Es una medida del error cuádratico medio, que es precisamente lo que buscábamos minimizar. Su fórmula es:\n",
    "<img src='https://lh4.googleusercontent.com/GD-CcmSDeb1ficAt41u0ZDtFd7syTpJGc_NJ3NGTlQtY-rikX7Tqn9DMaG4b5JtWlKOI6RBayJZNxr4h5SHL2SeKX9ceQCLj9uGTuqeAfgS0EDjh20oZnImahJ2oUa3up9E7KjI'>"
   ]
  },
  {
   "cell_type": "code",
   "execution_count": 51,
   "metadata": {},
   "outputs": [
    {
     "name": "stdout",
     "output_type": "stream",
     "text": [
      "RMSE = 0.45\n"
     ]
    }
   ],
   "source": [
    "errores = y_hat - Y \n",
    "num_errores = len(errores) # El número de errores es equivalente a la longitud del vector (cúantos errores hay)\n",
    "RMSE = np.sqrt(np.sum(errores**2)/num_errores)\n",
    "print('RMSE = %.2f' % RMSE)"
   ]
  },
  {
   "cell_type": "markdown",
   "metadata": {},
   "source": [
    "# Conclusión\n",
    "---\n",
    "Hemos visto como funciona la regresión lineal.  \n",
    "\n",
    "Las buenas noticias, es que existen librerías que podemos utilizar para no necesitar hacer todas las operaciones siempre. En los siguientes links tenemos un caso más complicado que este ejemplo y se resolverá con librerías de python y de R. ¡A por ello!\n",
    "\n",
    "[Regresión Lineal Simple](https://github.com/PabloRR100/Curso-Machine-Learning-Esp/blob/master/4%20-%20Aprendizaje%20Supervisado/4.1.%20Regresión/4.1.2%20-%20Regresión%20Linear%20y%20Polinómica/4.1.1.1%20RLS%20-%20Python.ipynb)  \n",
    "[Regresión Lineal Múltiple](https://github.com/PabloRR100/Curso-Machine-Learning-Esp/blob/master/4%20-%20Aprendizaje%20Supervisado/4.1.%20Regresión/4.1.2%20-%20Regresión%20Linear%20y%20Polinómica/4.1.1.2%20RLM%20-%20Python.ipynb)  \n",
    "[Regresión Polinómica](https://github.com/PabloRR100/Curso-Machine-Learning-Esp/blob/master/4%20-%20Aprendizaje%20Supervisado/4.1.%20Regresión/4.1.2%20-%20Regresión%20Linear%20y%20Polinómica/4.1.1.3%20PLS%20-%20Python.ipynb)  "
   ]
  },
  {
   "cell_type": "code",
   "execution_count": null,
   "metadata": {},
   "outputs": [],
   "source": []
  }
 ],
 "metadata": {
  "kernelspec": {
   "display_name": "Python 3",
   "language": "python",
   "name": "python3"
  },
  "language_info": {
   "codemirror_mode": {
    "name": "ipython",
    "version": 3
   },
   "file_extension": ".py",
   "mimetype": "text/x-python",
   "name": "python",
   "nbconvert_exporter": "python",
   "pygments_lexer": "ipython3",
   "version": "3.6.4"
  }
 },
 "nbformat": 4,
 "nbformat_minor": 2
}
