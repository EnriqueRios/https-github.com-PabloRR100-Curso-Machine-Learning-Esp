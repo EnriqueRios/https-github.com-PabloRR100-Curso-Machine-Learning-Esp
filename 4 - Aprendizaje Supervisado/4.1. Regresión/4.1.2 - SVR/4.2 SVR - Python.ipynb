{
 "cells": [
  {
   "cell_type": "markdown",
   "metadata": {},
   "source": [
    "# SVR - Support Vector Regression (Python)\n",
    "---\n",
    "\n",
    "<img src='../Imagenes/SVR.png' style='width:12%;height:12%;float:left;margin-right:20px'>\n",
    "Los SVR utilizan una función (denominada función de Núcleo o ___kernel___) para mapear los puntos del conjunto de datos disponibles a otra dimensión donde estos sean linealmente separables. \n",
    "\n",
    "Si imaginamos un espacion en 2D con puntos de 2 clases distintas, la función de núcleo podría levantar a estos puntos a un espacio en 3D donde estos puntos de distintas clases podrían separarse por un plano."
   ]
  },
  {
   "cell_type": "markdown",
   "metadata": {},
   "source": [
    "\n",
    "## Escenario del problema\n",
    "---\n",
    "\n",
    "<img src='../Imagenes/entrevista.png' style='width:8%;height:8%;float:left;margin-right:20px'>\n",
    "Vamos a contratar un nuevo empleado. Nos ha dicho que en su anterior empresa fue Manager Regional durante 2 años y que cobraba 170.000€ al año. Queremos determinar hasta que punto nos dice la verdad para poder negociar con él el salario que queremos ofrecerle en su nuevo puesto.  \n",
    "¡Vamos a ello!"
   ]
  },
  {
   "cell_type": "code",
   "execution_count": 1,
   "metadata": {},
   "outputs": [],
   "source": [
    "# 1. Importar librerías\n",
    "import numpy as np\n",
    "import pandas as pd\n",
    "\n",
    "import matplotlib.pyplot as plt\n",
    "from beautifultable import BeautifulTable as BT\n",
    "\n",
    "from sklearn.model_selection import train_test_split as separar\n",
    "from sklearn.preprocessing import MinMaxScaler"
   ]
  },
  {
   "cell_type": "code",
   "execution_count": 13,
   "metadata": {},
   "outputs": [
    {
     "data": {
      "text/html": [
       "<div>\n",
       "<style scoped>\n",
       "    .dataframe tbody tr th:only-of-type {\n",
       "        vertical-align: middle;\n",
       "    }\n",
       "\n",
       "    .dataframe tbody tr th {\n",
       "        vertical-align: top;\n",
       "    }\n",
       "\n",
       "    .dataframe thead th {\n",
       "        text-align: right;\n",
       "    }\n",
       "</style>\n",
       "<table border=\"1\" class=\"dataframe\">\n",
       "  <thead>\n",
       "    <tr style=\"text-align: right;\">\n",
       "      <th></th>\n",
       "      <th>Posicion</th>\n",
       "      <th>Nivel</th>\n",
       "      <th>Salario</th>\n",
       "    </tr>\n",
       "  </thead>\n",
       "  <tbody>\n",
       "    <tr>\n",
       "      <th>0</th>\n",
       "      <td>Analista</td>\n",
       "      <td>1</td>\n",
       "      <td>45000</td>\n",
       "    </tr>\n",
       "    <tr>\n",
       "      <th>1</th>\n",
       "      <td>Consultor Junior</td>\n",
       "      <td>2</td>\n",
       "      <td>50000</td>\n",
       "    </tr>\n",
       "    <tr>\n",
       "      <th>2</th>\n",
       "      <td>Consultor Senior</td>\n",
       "      <td>3</td>\n",
       "      <td>60000</td>\n",
       "    </tr>\n",
       "    <tr>\n",
       "      <th>3</th>\n",
       "      <td>Manager</td>\n",
       "      <td>4</td>\n",
       "      <td>80000</td>\n",
       "    </tr>\n",
       "    <tr>\n",
       "      <th>4</th>\n",
       "      <td>Manager General</td>\n",
       "      <td>5</td>\n",
       "      <td>110000</td>\n",
       "    </tr>\n",
       "    <tr>\n",
       "      <th>5</th>\n",
       "      <td>Manager Regional</td>\n",
       "      <td>6</td>\n",
       "      <td>150000</td>\n",
       "    </tr>\n",
       "    <tr>\n",
       "      <th>6</th>\n",
       "      <td>Socio</td>\n",
       "      <td>7</td>\n",
       "      <td>200000</td>\n",
       "    </tr>\n",
       "    <tr>\n",
       "      <th>7</th>\n",
       "      <td>Socio Senior</td>\n",
       "      <td>8</td>\n",
       "      <td>300000</td>\n",
       "    </tr>\n",
       "    <tr>\n",
       "      <th>8</th>\n",
       "      <td>Nivel-C</td>\n",
       "      <td>9</td>\n",
       "      <td>500000</td>\n",
       "    </tr>\n",
       "    <tr>\n",
       "      <th>9</th>\n",
       "      <td>CEO</td>\n",
       "      <td>10</td>\n",
       "      <td>1000000</td>\n",
       "    </tr>\n",
       "  </tbody>\n",
       "</table>\n",
       "</div>"
      ],
      "text/plain": [
       "           Posicion  Nivel  Salario\n",
       "0          Analista      1    45000\n",
       "1  Consultor Junior      2    50000\n",
       "2  Consultor Senior      3    60000\n",
       "3           Manager      4    80000\n",
       "4   Manager General      5   110000\n",
       "5  Manager Regional      6   150000\n",
       "6             Socio      7   200000\n",
       "7      Socio Senior      8   300000\n",
       "8           Nivel-C      9   500000\n",
       "9               CEO     10  1000000"
      ]
     },
     "execution_count": 13,
     "metadata": {},
     "output_type": "execute_result"
    }
   ],
   "source": [
    "# 2. Importar datos\n",
    "datos = pd.read_csv('../Datos/4.1.Salarios2.csv')\n",
    "datos.head(10)"
   ]
  },
  {
   "cell_type": "code",
   "execution_count": 74,
   "metadata": {},
   "outputs": [],
   "source": [
    "# 3. Crear variable y respuesta\n",
    "X = datos['Nivel'].values.reshape(-1,1)\n",
    "y = datos['Salario'].values"
   ]
  },
  {
   "cell_type": "code",
   "execution_count": 75,
   "metadata": {},
   "outputs": [
    {
     "data": {
      "text/plain": [
       "\"\\nX_train, X_test, y_train, y_test = separar(X, y, test_size=0.3, random_state=0)\\nprint('La forma de X_train es: ', X_train.shape)\\nprint('La forma de y_train es: ', y_train.shape)\\nprint('La forma de X_test es: ', X_test.shape)\\nprint('La forma de y_test es: ', y_test.shape)\\n\""
      ]
     },
     "execution_count": 75,
     "metadata": {},
     "output_type": "execute_result"
    }
   ],
   "source": [
    "# 4. Separar en Entranamiento y Validación\n",
    "'''\n",
    "X_train, X_test, y_train, y_test = separar(X, y, test_size=0.3, random_state=0)\n",
    "print('La forma de X_train es: ', X_train.shape)\n",
    "print('La forma de y_train es: ', y_train.shape)\n",
    "print('La forma de X_test es: ', X_test.shape)\n",
    "print('La forma de y_test es: ', y_test.shape)\n",
    "'''"
   ]
  },
  {
   "cell_type": "markdown",
   "metadata": {},
   "source": [
    "**Recordatorio:** no hacemos división de conjuntos porque tenemos muy pocos datos y nuestra intención es hacer una predicción lo más precisa posible."
   ]
  },
  {
   "cell_type": "code",
   "execution_count": 76,
   "metadata": {},
   "outputs": [
    {
     "name": "stderr",
     "output_type": "stream",
     "text": [
      "/Users/pablorr10/miniconda3/envs/datascience/lib/python3.6/site-packages/sklearn/utils/validation.py:475: DataConversionWarning: Data with input dtype int64 was converted to float64 by MinMaxScaler.\n",
      "  warnings.warn(msg, DataConversionWarning)\n"
     ]
    }
   ],
   "source": [
    "# 5. Escalar los datos \n",
    "# SVR no es un algoritmo muy utilizado por eso la librería no lo escala automáticamente\n",
    "# Probar a ver los resultados sin escalar a ver qué pasa!\n",
    "escaladorX = MinMaxScaler()\n",
    "X = escaladorX.fit_transform(X)\n",
    "\n",
    "escaladorY = MinMaxScaler()\n",
    "y = escaladorY.fit_transform(y.reshape(-1, 1))"
   ]
  },
  {
   "cell_type": "code",
   "execution_count": 77,
   "metadata": {},
   "outputs": [
    {
     "data": {
      "text/plain": [
       "SVR(C=1.0, cache_size=200, coef0=0.0, degree=3, epsilon=0.1, gamma='auto',\n",
       "  kernel='rbf', max_iter=-1, shrinking=True, tol=0.001, verbose=False)"
      ]
     },
     "execution_count": 77,
     "metadata": {},
     "output_type": "execute_result"
    }
   ],
   "source": [
    "# 6. Ajustar el Modelo\n",
    "from sklearn.svm import SVR\n",
    "regresor = SVR(kernel='rbf')\n",
    "regresor.fit(X, y.reshape(-1,))"
   ]
  },
  {
   "cell_type": "code",
   "execution_count": 78,
   "metadata": {},
   "outputs": [],
   "source": [
    "# 7. Hacer las predicciones (predicciones -> y_pred)\n",
    "x_pred = escaladorX.transform(np.array([[6.5]])) # Espera un array\n",
    "y_fit = regresor.predict(X).reshape(-1,1) # Valores ajustados durante el entrenamiento\n",
    "y_pred = regresor.predict(x_pred).reshape(1,1)  # Valores resultantes con la nueva información"
   ]
  },
  {
   "cell_type": "code",
   "execution_count": 79,
   "metadata": {},
   "outputs": [],
   "source": [
    "# 8. Desescalar para ver los valores reales\n",
    "y = escaladorY.inverse_transform(y)\n",
    "y_fit = escaladorY.inverse_transform(y_fit) \n",
    "x_pred = escaladorX.inverse_transform(x_pred)\n",
    "y_pred = escaladorY.inverse_transform(y_pred)\n",
    "X = escaladorX.inverse_transform(X)"
   ]
  },
  {
   "cell_type": "code",
   "execution_count": 80,
   "metadata": {},
   "outputs": [
    {
     "data": {
      "image/png": "[encoded data removed]",
      "text/plain": [
       "<matplotlib.figure.Figure at 0x10dc9add8>"
      ]
     },
     "metadata": {},
     "output_type": "display_data"
    },
    {
     "name": "stdout",
     "output_type": "stream",
     "text": [
      "Para un nivel 6.5 cobraría  [[ 267620.35887985]]\n"
     ]
    }
   ],
   "source": [
    "# 8. Echemos un vistazo a la pinta que tienen nuestros ajustes\n",
    "plt.scatter(X, y, color = 'red')\n",
    "plt.plot(X, y_fit, color = 'blue')\n",
    "plt.scatter(x_pred, y_pred, color='green')\n",
    "plt.title('Regresión Lineal')\n",
    "plt.xlabel('Nivel')\n",
    "plt.ylabel('Salario')\n",
    "plt.show()\n",
    "print('Para un nivel 6.5 cobraría ', y_pred)"
   ]
  },
  {
   "cell_type": "code",
   "execution_count": 84,
   "metadata": {},
   "outputs": [
    {
     "data": {
      "image/png": "[encoded data removed]",
      "text/plain": [
       "<matplotlib.figure.Figure at 0x10e1f6208>"
      ]
     },
     "metadata": {},
     "output_type": "display_data"
    },
    {
     "name": "stdout",
     "output_type": "stream",
     "text": [
      "Para un nivel 6.5 cobraría  [[ 267620.35887985]]\n"
     ]
    }
   ],
   "source": [
    "# 9. Podemos aumentar la resolución del gráfico generando X más pequeños y prediciendo para cada uno de ellos\n",
    "X = datos['Nivel'].values.reshape(-1,1)\n",
    "X = escaladorX.transform(X)\n",
    "X_grid = np.arange(min(X), max(X), 0.001)\n",
    "X_grid = X_grid.reshape(-1, 1)\n",
    "y_grid = regresor.predict(X_grid)\n",
    "y_grid = escaladorY.inverse_transform(y_grid.reshape(-1,1))\n",
    "\n",
    "plt.scatter(X, y, color = 'red')\n",
    "plt.plot(X_grid, y_grid, color = 'blue')\n",
    "plt.title('Regresión Lineal')\n",
    "plt.xlabel('Nivel')\n",
    "plt.ylabel('Salario')\n",
    "plt.show()\n",
    "print('Para un nivel 6.5 cobraría ', y_pred)"
   ]
  },
  {
   "cell_type": "code",
   "execution_count": 82,
   "metadata": {},
   "outputs": [
    {
     "name": "stdout",
     "output_type": "stream",
     "text": [
      "RMSE =  17620.9301068\n"
     ]
    }
   ],
   "source": [
    "# 10. Cálculo del error\n",
    "from statsmodels.tools.eval_measures import rmse\n",
    "RMSE = np.sum(rmse(y, y_fit))/len(y)\n",
    "print('RMSE = ', RMSE)"
   ]
  },
  {
   "cell_type": "markdown",
   "metadata": {},
   "source": [
    "# Conclusión\n",
    "---\n",
    "Hemos visto como la RP establece una relación polinómica entre la variable independiente (predictor) y la variable dependiente (respuesta) en función de los datos disponibles en el conjunto de entrenamiento, y como aplica esta función para obtener nuevas prediciones con la nueva información disponible en el conjunto de validación.\n",
    "\n",
    "Hemos visto como en ciertas ocasiones la relaciones entre dichas variables no es lineal, y por lo tanto no podemos confiar en un regresor lineal, y podremos encontrar un regresor polinómico que se ajuste a los datos mucho mejor. ¡Pero mucho cuidado con el sobre ajuste!"
   ]
  },
  {
   "cell_type": "code",
   "execution_count": null,
   "metadata": {},
   "outputs": [],
   "source": []
  }
 ],
 "metadata": {
  "kernelspec": {
   "display_name": "Python 3",
   "language": "python",
   "name": "python3"
  },
  "language_info": {
   "codemirror_mode": {
    "name": "ipython",
    "version": 3
   },
   "file_extension": ".py",
   "mimetype": "text/x-python",
   "name": "python",
   "nbconvert_exporter": "python",
   "pygments_lexer": "ipython3",
   "version": "3.6.3"
  }
 },
 "nbformat": 4,
 "nbformat_minor": 2
}
