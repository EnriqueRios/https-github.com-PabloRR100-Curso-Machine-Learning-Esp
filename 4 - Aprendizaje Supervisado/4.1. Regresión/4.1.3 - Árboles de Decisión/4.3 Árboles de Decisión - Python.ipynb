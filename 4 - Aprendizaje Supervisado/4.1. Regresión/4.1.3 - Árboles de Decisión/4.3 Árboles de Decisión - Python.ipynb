{
 "cells": [
  {
   "cell_type": "markdown",
   "metadata": {},
   "source": [
    "# Árboles de Decisión (Python)\n",
    "---\n",
    "\n",
    "<img src='../Imagenes/arbol.png' style='width:15%;height:15%;float:left;margin-right:20px'>\n",
    "Los árboles de decisión son una de las técnicas más empleadas para el aprendizaje inductivo, siendo un método bastante robusto frente a datos ruidosos. En esencia como todos los regresores, son una función que dará salida a unas entradas. La representación de esta función toma dorma de árbol y es interpretada como una **serie de condiciones consecutivas** que pueden ser fácilmente mapeadas a reglas.\n",
    "\n",
    "Exiten diferentes algoritmos para la creación de los árboles, en función del método de selección de atributos. Los métodos de seleción de atributos más comunes son: el Índice de Gini, la Ganancia de Información y la Proporción de Ganancia.\n",
    "\n",
    "El resultado final será un árbol que empieza en un nodo raíz y termina en los nodos hojas. Los caminos desde el nodo raíz a cada uno de los nodos hojas son las ramas, que no son más que secuencias de reglas encadenadas. El resultado de haber llegado a un nodo hoja implica que se han cumplido una por una todas las condiciones en cada una de las ramificaciones de cada nodo intermedio."
   ]
  },
  {
   "cell_type": "markdown",
   "metadata": {},
   "source": [
    "\n",
    "## Escenario del problema\n",
    "---\n",
    "\n",
    "<img src='../Imagenes/entrevista.png' style='width:8%;height:8%;float:left;margin-right:20px'>\n",
    "Vamos a contratar un nuevo empleado. Nos ha dicho que en su anterior empresa fue Manager Regional durante 2 años y que cobraba 170.000€ al año. Queremos determinar hasta que punto nos dice la verdad para poder negociar con él el salario que queremos ofrecerle en su nuevo puesto.  \n",
    "¡Vamos a ello!"
   ]
  },
  {
   "cell_type": "code",
   "execution_count": 1,
   "metadata": {},
   "outputs": [],
   "source": [
    "# 1. Importar librerías\n",
    "import numpy as np\n",
    "import pandas as pd\n",
    "\n",
    "import matplotlib.pyplot as plt\n",
    "from beautifultable import BeautifulTable as BT\n",
    "\n",
    "from sklearn.model_selection import train_test_split as separar\n",
    "from sklearn.preprocessing import MinMaxScaler"
   ]
  },
  {
   "cell_type": "code",
   "execution_count": 2,
   "metadata": {},
   "outputs": [
    {
     "data": {
      "text/html": [
       "<div>\n",
       "<style scoped>\n",
       "    .dataframe tbody tr th:only-of-type {\n",
       "        vertical-align: middle;\n",
       "    }\n",
       "\n",
       "    .dataframe tbody tr th {\n",
       "        vertical-align: top;\n",
       "    }\n",
       "\n",
       "    .dataframe thead th {\n",
       "        text-align: right;\n",
       "    }\n",
       "</style>\n",
       "<table border=\"1\" class=\"dataframe\">\n",
       "  <thead>\n",
       "    <tr style=\"text-align: right;\">\n",
       "      <th></th>\n",
       "      <th>Posicion</th>\n",
       "      <th>Nivel</th>\n",
       "      <th>Salario</th>\n",
       "    </tr>\n",
       "  </thead>\n",
       "  <tbody>\n",
       "    <tr>\n",
       "      <th>0</th>\n",
       "      <td>Analista</td>\n",
       "      <td>1</td>\n",
       "      <td>45000</td>\n",
       "    </tr>\n",
       "    <tr>\n",
       "      <th>1</th>\n",
       "      <td>Consultor Junior</td>\n",
       "      <td>2</td>\n",
       "      <td>50000</td>\n",
       "    </tr>\n",
       "    <tr>\n",
       "      <th>2</th>\n",
       "      <td>Consultor Senior</td>\n",
       "      <td>3</td>\n",
       "      <td>60000</td>\n",
       "    </tr>\n",
       "    <tr>\n",
       "      <th>3</th>\n",
       "      <td>Manager</td>\n",
       "      <td>4</td>\n",
       "      <td>80000</td>\n",
       "    </tr>\n",
       "    <tr>\n",
       "      <th>4</th>\n",
       "      <td>Manager General</td>\n",
       "      <td>5</td>\n",
       "      <td>110000</td>\n",
       "    </tr>\n",
       "    <tr>\n",
       "      <th>5</th>\n",
       "      <td>Manager Regional</td>\n",
       "      <td>6</td>\n",
       "      <td>150000</td>\n",
       "    </tr>\n",
       "    <tr>\n",
       "      <th>6</th>\n",
       "      <td>Socio</td>\n",
       "      <td>7</td>\n",
       "      <td>200000</td>\n",
       "    </tr>\n",
       "    <tr>\n",
       "      <th>7</th>\n",
       "      <td>Socio Senior</td>\n",
       "      <td>8</td>\n",
       "      <td>300000</td>\n",
       "    </tr>\n",
       "    <tr>\n",
       "      <th>8</th>\n",
       "      <td>Nivel-C</td>\n",
       "      <td>9</td>\n",
       "      <td>500000</td>\n",
       "    </tr>\n",
       "    <tr>\n",
       "      <th>9</th>\n",
       "      <td>CEO</td>\n",
       "      <td>10</td>\n",
       "      <td>1000000</td>\n",
       "    </tr>\n",
       "  </tbody>\n",
       "</table>\n",
       "</div>"
      ],
      "text/plain": [
       "           Posicion  Nivel  Salario\n",
       "0          Analista      1    45000\n",
       "1  Consultor Junior      2    50000\n",
       "2  Consultor Senior      3    60000\n",
       "3           Manager      4    80000\n",
       "4   Manager General      5   110000\n",
       "5  Manager Regional      6   150000\n",
       "6             Socio      7   200000\n",
       "7      Socio Senior      8   300000\n",
       "8           Nivel-C      9   500000\n",
       "9               CEO     10  1000000"
      ]
     },
     "execution_count": 2,
     "metadata": {},
     "output_type": "execute_result"
    }
   ],
   "source": [
    "# 2. Importar datos\n",
    "datos = pd.read_csv('../Datos/4.1.Salarios2.csv')\n",
    "datos.head(10)"
   ]
  },
  {
   "cell_type": "code",
   "execution_count": 3,
   "metadata": {},
   "outputs": [],
   "source": [
    "# 3. Crear variable y respuesta\n",
    "X = datos['Nivel'].values.reshape(-1,1)\n",
    "y = datos['Salario'].values"
   ]
  },
  {
   "cell_type": "code",
   "execution_count": null,
   "metadata": {},
   "outputs": [],
   "source": [
    "# 4. Separar en Entranamiento y Validación\n",
    "'''\n",
    "X_train, X_test, y_train, y_test = separar(X, y, test_size=0.3, random_state=0)\n",
    "print('La forma de X_train es: ', X_train.shape)\n",
    "print('La forma de y_train es: ', y_train.shape)\n",
    "print('La forma de X_test es: ', X_test.shape)\n",
    "print('La forma de y_test es: ', y_test.shape)\n",
    "'''"
   ]
  },
  {
   "cell_type": "code",
   "execution_count": null,
   "metadata": {},
   "outputs": [],
   "source": [
    "# 5. Escalar los datos\n",
    "'''\n",
    "escaladorX = MinMaxScaler()\n",
    "X = escaladorX.fit_transform(X).reshape(-1,1)\n",
    "\n",
    "escaladorY = MinMaxScaler()\n",
    "y = escaladorY.fit_transform(y.reshape(-1,1)) # Si ponemos (-1,1) aquí, el SVR se quejará\n",
    "'''"
   ]
  },
  {
   "cell_type": "code",
   "execution_count": 4,
   "metadata": {},
   "outputs": [
    {
     "data": {
      "text/plain": [
       "DecisionTreeRegressor(criterion='mse', max_depth=None, max_features=None,\n",
       "           max_leaf_nodes=None, min_impurity_decrease=0.0,\n",
       "           min_impurity_split=None, min_samples_leaf=1,\n",
       "           min_samples_split=2, min_weight_fraction_leaf=0.0,\n",
       "           presort=False, random_state=0, splitter='best')"
      ]
     },
     "execution_count": 4,
     "metadata": {},
     "output_type": "execute_result"
    }
   ],
   "source": [
    "# 6. Ajustar el Modelo\n",
    "from sklearn.tree import DecisionTreeRegressor as Arbol\n",
    "'''\n",
    "criterion: el criterio que se va a adoptar para ejecutar la división en cada nodo de la rama\n",
    "'''\n",
    "regresor = Arbol(criterion='mse', random_state=0)\n",
    "regresor.fit(X, y)"
   ]
  },
  {
   "cell_type": "code",
   "execution_count": 5,
   "metadata": {},
   "outputs": [],
   "source": [
    "# 7. Hacer las predicciones (predicciones -> y_pred)\n",
    "y_fit = regresor.predict(X).reshape(-1,1) # Valores ajustados durante el entrenamiento\n",
    "y_pred = regresor.predict(6.5).reshape(1,1)  # Valores resultantes con la nueva información"
   ]
  },
  {
   "cell_type": "code",
   "execution_count": 6,
   "metadata": {},
   "outputs": [
    {
     "data": {
      "image/png": "[encoded data removed]",
      "text/plain": [
       "<matplotlib.figure.Figure at 0x1a14ba2dd8>"
      ]
     },
     "metadata": {},
     "output_type": "display_data"
    },
    {
     "name": "stdout",
     "output_type": "stream",
     "text": [
      "Para un nivel 6.5 cobraría  [[ 150000.]]\n"
     ]
    }
   ],
   "source": [
    "# 8. Echemos un vistazo a la pinta que tienen nuestros ajustes\n",
    "plt.scatter(X, y, color = 'red')\n",
    "plt.plot(X, y_fit, color = 'blue')\n",
    "plt.title('Regresión Lineal')\n",
    "plt.xlabel('Nivel')\n",
    "plt.ylabel('Salario')\n",
    "plt.show()\n",
    "print('Para un nivel 6.5 cobraría ', y_pred)"
   ]
  },
  {
   "cell_type": "markdown",
   "metadata": {},
   "source": [
    "**¡Cuidado, esto es una trampa!**  \n",
    "¿Qué es lo que está pasando aquí? ¿Creéis que estamos prediciendo perfecto lo que pasa? Está claro que no.  \n",
    "\n",
    "Lo que pasa es que si estamos en 1 dimensión unicamente (Salario depende del Nivel únicamente) el árbol de decisión está haciendo una división por cada punto y esta tomando la media que hay entre cada valor. Pero entonces, ¿por qué vemos esto y no vemos una escalera, con un escalón por cada división? Eso sería lo lógico, puesto que tomará el valor medio para todos el rango x que componga ese escalón.  \n",
    "\n",
    "La clave está en la resolución de nuestro gráfico. Nos estamos enfrente a un nuevo modelo de regresión, que es la **discontínua**. Para poder ver esta discontinuidad tenemos entonces que mejorar la resolución."
   ]
  },
  {
   "cell_type": "code",
   "execution_count": 7,
   "metadata": {},
   "outputs": [
    {
     "data": {
      "image/png": "[encoded data removed]",
      "text/plain": [
       "<matplotlib.figure.Figure at 0x1a1a5c7be0>"
      ]
     },
     "metadata": {},
     "output_type": "display_data"
    },
    {
     "name": "stdout",
     "output_type": "stream",
     "text": [
      "Para un nivel 6.5 cobraría  [[ 150000.]]\n"
     ]
    }
   ],
   "source": [
    "# 9. Echemos un vistazo a la pinta que tienen nuestros ajustes\n",
    "# Tenemos que hacer las prediciones para cada uno de los nuevos X_grid\n",
    "X_grid = np.arange(min(X), max(X), 0.01)\n",
    "X_grid = X_grid.reshape(-1, 1)\n",
    "y_grid = regresor.predict(X_grid)\n",
    "\n",
    "plt.scatter(X, y, color = 'red')\n",
    "plt.plot(X_grid, y_grid, color = 'blue')\n",
    "plt.title('Regresión Lineal')\n",
    "plt.xlabel('Nivel')\n",
    "plt.ylabel('Salario')\n",
    "plt.show()\n",
    "print('Para un nivel 6.5 cobraría ', y_pred)"
   ]
  },
  {
   "cell_type": "code",
   "execution_count": 8,
   "metadata": {},
   "outputs": [
    {
     "name": "stdout",
     "output_type": "stream",
     "text": [
      "RMSE =  374448.020899\n"
     ]
    }
   ],
   "source": [
    "# 10. Cálculo del error\n",
    "from statsmodels.tools.eval_measures import rmse\n",
    "RMSE = np.sum(rmse(y, y_fit))/len(y)\n",
    "print('RMSE = ', RMSE)"
   ]
  },
  {
   "cell_type": "markdown",
   "metadata": {},
   "source": [
    "# Conclusión\n",
    "---\n",
    "Hemos visto como los árboles de decisión establecen divisiones entre el conjunto de datos como resultado de hacer divisiones en los nodos a cada nivel de profundidad del árbol.\n",
    "\n",
    "De esta manera cuando solicitamos por un valor, irá desviandose en cada desviación hasta terminar la rama desde el nodo raíz hasta el nodo hoja en función de las condiciones en cada nodo. Nos devolverá el resultado del nodo hoja.\n",
    "\n",
    "Para el problema del sobreajuste, especificar parámetros en la construcción del árbol o aplicar mecanismos de *poda*"
   ]
  },
  {
   "cell_type": "code",
   "execution_count": null,
   "metadata": {},
   "outputs": [],
   "source": []
  }
 ],
 "metadata": {
  "kernelspec": {
   "display_name": "Python 3",
   "language": "python",
   "name": "python3"
  },
  "language_info": {
   "codemirror_mode": {
    "name": "ipython",
    "version": 3
   },
   "file_extension": ".py",
   "mimetype": "text/x-python",
   "name": "python",
   "nbconvert_exporter": "python",
   "pygments_lexer": "ipython3",
   "version": "3.6.3"
  }
 },
 "nbformat": 4,
 "nbformat_minor": 2
}
