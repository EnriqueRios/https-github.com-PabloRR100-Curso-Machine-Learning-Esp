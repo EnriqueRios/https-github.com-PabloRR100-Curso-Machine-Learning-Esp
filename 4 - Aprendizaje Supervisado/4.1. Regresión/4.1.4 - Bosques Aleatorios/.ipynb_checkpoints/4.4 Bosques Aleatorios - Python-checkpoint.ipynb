{
 "cells": [
  {
   "cell_type": "markdown",
   "metadata": {},
   "source": [
    "# Árboles de Decisión (Python)\n",
    "---\n",
    "Los bosques aleatorios consisten simplemente en la generación de un número de árboles de decisión cuyos nodos adoptan condiciones diferentes para decidir sobre el mismo conjunto de datos de entrada. \n",
    "\n",
    "El resultado del bosque aleatorio será el promedio del resultado de los *n* árboles que conformen el bosque."
   ]
  },
  {
   "cell_type": "code",
   "execution_count": 1,
   "metadata": {},
   "outputs": [],
   "source": [
    "# 1. Importar librerías\n",
    "import numpy as np\n",
    "import pandas as pd\n",
    "\n",
    "import matplotlib.pyplot as plt\n",
    "from beautifultable import BeautifulTable as BT\n",
    "\n",
    "from sklearn.model_selection import train_test_split as separar\n",
    "from sklearn.preprocessing import MinMaxScaler"
   ]
  },
  {
   "cell_type": "code",
   "execution_count": 2,
   "metadata": {},
   "outputs": [
    {
     "data": {
      "text/html": [
       "<div>\n",
       "<style>\n",
       "    .dataframe thead tr:only-child th {\n",
       "        text-align: right;\n",
       "    }\n",
       "\n",
       "    .dataframe thead th {\n",
       "        text-align: left;\n",
       "    }\n",
       "\n",
       "    .dataframe tbody tr th {\n",
       "        vertical-align: top;\n",
       "    }\n",
       "</style>\n",
       "<table border=\"1\" class=\"dataframe\">\n",
       "  <thead>\n",
       "    <tr style=\"text-align: right;\">\n",
       "      <th></th>\n",
       "      <th>Posicion</th>\n",
       "      <th>Nivel</th>\n",
       "      <th>Salario</th>\n",
       "    </tr>\n",
       "  </thead>\n",
       "  <tbody>\n",
       "    <tr>\n",
       "      <th>0</th>\n",
       "      <td>Analista</td>\n",
       "      <td>1</td>\n",
       "      <td>45000</td>\n",
       "    </tr>\n",
       "    <tr>\n",
       "      <th>1</th>\n",
       "      <td>Consultor Junior</td>\n",
       "      <td>2</td>\n",
       "      <td>50000</td>\n",
       "    </tr>\n",
       "    <tr>\n",
       "      <th>2</th>\n",
       "      <td>Consultor Senior</td>\n",
       "      <td>3</td>\n",
       "      <td>60000</td>\n",
       "    </tr>\n",
       "    <tr>\n",
       "      <th>3</th>\n",
       "      <td>Manager</td>\n",
       "      <td>4</td>\n",
       "      <td>80000</td>\n",
       "    </tr>\n",
       "    <tr>\n",
       "      <th>4</th>\n",
       "      <td>Manager General</td>\n",
       "      <td>5</td>\n",
       "      <td>110000</td>\n",
       "    </tr>\n",
       "    <tr>\n",
       "      <th>5</th>\n",
       "      <td>Manager Regional</td>\n",
       "      <td>6</td>\n",
       "      <td>150000</td>\n",
       "    </tr>\n",
       "    <tr>\n",
       "      <th>6</th>\n",
       "      <td>Socio</td>\n",
       "      <td>7</td>\n",
       "      <td>200000</td>\n",
       "    </tr>\n",
       "    <tr>\n",
       "      <th>7</th>\n",
       "      <td>Socio Senior</td>\n",
       "      <td>8</td>\n",
       "      <td>300000</td>\n",
       "    </tr>\n",
       "    <tr>\n",
       "      <th>8</th>\n",
       "      <td>Nivel-C</td>\n",
       "      <td>9</td>\n",
       "      <td>500000</td>\n",
       "    </tr>\n",
       "    <tr>\n",
       "      <th>9</th>\n",
       "      <td>CEO</td>\n",
       "      <td>10</td>\n",
       "      <td>1000000</td>\n",
       "    </tr>\n",
       "  </tbody>\n",
       "</table>\n",
       "</div>"
      ],
      "text/plain": [
       "           Posicion  Nivel  Salario\n",
       "0          Analista      1    45000\n",
       "1  Consultor Junior      2    50000\n",
       "2  Consultor Senior      3    60000\n",
       "3           Manager      4    80000\n",
       "4   Manager General      5   110000\n",
       "5  Manager Regional      6   150000\n",
       "6             Socio      7   200000\n",
       "7      Socio Senior      8   300000\n",
       "8           Nivel-C      9   500000\n",
       "9               CEO     10  1000000"
      ]
     },
     "execution_count": 2,
     "metadata": {},
     "output_type": "execute_result"
    }
   ],
   "source": [
    "# 2. Importar datos\n",
    "datos = pd.read_csv('../Datos/4.1.Salarios2.csv')\n",
    "datos.head(10)"
   ]
  },
  {
   "cell_type": "code",
   "execution_count": 3,
   "metadata": {},
   "outputs": [],
   "source": [
    "# 3. Crear variable y respuesta\n",
    "X = datos['Nivel'].values.reshape(-1,1)\n",
    "y = datos['Salario'].values.reshape(-1,1)"
   ]
  },
  {
   "cell_type": "code",
   "execution_count": null,
   "metadata": {},
   "outputs": [],
   "source": [
    "# 4. Separar en Entranamiento y Validación\n",
    "'''\n",
    "X_train, X_test, y_train, y_test = separar(X, y, test_size=0.3, random_state=0)\n",
    "print('La forma de X_train es: ', X_train.shape)\n",
    "print('La forma de y_train es: ', y_train.shape)\n",
    "print('La forma de X_test es: ', X_test.shape)\n",
    "print('La forma de y_test es: ', y_test.shape)\n",
    "'''"
   ]
  },
  {
   "cell_type": "code",
   "execution_count": null,
   "metadata": {},
   "outputs": [],
   "source": [
    "'''\n",
    "X_train = X_train.reshape(-1,1)\n",
    "y_train = y_train.reshape(-1,1)\n",
    "X_test = X_test.reshape(-1,1)\n",
    "y_test = y_test.reshape(-1,1)\n",
    "print('La forma de X_train es: ', X_train.shape)\n",
    "print('La forma de y_train es: ', X_train.shape)\n",
    "print('La forma de X_test es: ', X_test.shape)\n",
    "print('La forma de y_test es: ', y_test.shape)\n",
    "'''"
   ]
  },
  {
   "cell_type": "code",
   "execution_count": 4,
   "metadata": {},
   "outputs": [
    {
     "name": "stderr",
     "output_type": "stream",
     "text": [
      "/Users/pablorr10/miniconda3/lib/python3.6/site-packages/sklearn/utils/validation.py:444: DataConversionWarning: Data with input dtype int64 was converted to float64 by MinMaxScaler.\n",
      "  warnings.warn(msg, DataConversionWarning)\n"
     ]
    }
   ],
   "source": [
    "# 5. Escalar los datos\n",
    "escaladorX = MinMaxScaler()\n",
    "X = escaladorX.fit_transform(X).reshape(-1,1)\n",
    "\n",
    "escaladorY = MinMaxScaler()\n",
    "y = escaladorY.fit_transform(y) # Si ponemos (-1,1) aquí, el SVR se quejará"
   ]
  },
  {
   "cell_type": "code",
   "execution_count": 5,
   "metadata": {},
   "outputs": [
    {
     "data": {
      "text/plain": [
       "RandomForestRegressor(bootstrap=True, criterion='mse', max_depth=None,\n",
       "           max_features='auto', max_leaf_nodes=None,\n",
       "           min_impurity_decrease=0.0, min_impurity_split=None,\n",
       "           min_samples_leaf=1, min_samples_split=2,\n",
       "           min_weight_fraction_leaf=0.0, n_estimators=10, n_jobs=1,\n",
       "           oob_score=False, random_state=0, verbose=0, warm_start=False)"
      ]
     },
     "execution_count": 5,
     "metadata": {},
     "output_type": "execute_result"
    }
   ],
   "source": [
    "# 6. Ajustar el Modelo\n",
    "from sklearn.ensemble import RandomForestRegressor as Bosque\n",
    "regresor = Bosque(n_estimators=10, random_state=0)\n",
    "regresor.fit(X, y.reshape(-1,))"
   ]
  },
  {
   "cell_type": "code",
   "execution_count": 6,
   "metadata": {},
   "outputs": [],
   "source": [
    "# 7. Hacer las predicciones (predicciones -> y_pred)\n",
    "y_fit = regresor.predict(X).reshape(-1,1) # Valores ajustados durante el entrenamiento\n",
    "y_pred = regresor.predict(6.5).reshape(1,1)  # Valores resultantes con la nueva información"
   ]
  },
  {
   "cell_type": "code",
   "execution_count": 7,
   "metadata": {},
   "outputs": [],
   "source": [
    "# 8. Desescalar para ver los valores reales\n",
    "y = escaladorY.inverse_transform(y)\n",
    "y_fit = escaladorY.inverse_transform(y_fit) # Desescalar\n",
    "y_pred = escaladorY.inverse_transform(y_pred)\n",
    "X = escaladorX.inverse_transform(X)"
   ]
  },
  {
   "cell_type": "code",
   "execution_count": 8,
   "metadata": {},
   "outputs": [
    {
     "data": {
      "image/png": "[encoded data removed]",
      "text/plain": [
       "<matplotlib.figure.Figure at 0x11ce02a90>"
      ]
     },
     "metadata": {},
     "output_type": "display_data"
    },
    {
     "name": "stdout",
     "output_type": "stream",
     "text": [
      "Para un nivel 6.5 cobraría  [[ 850000.]]\n"
     ]
    }
   ],
   "source": [
    "# 8. Echemos un vistazo a la pinta que tienen nuestros ajustes\n",
    "plt.scatter(X, y, color = 'red')\n",
    "plt.plot(X, y_fit, color = 'blue')\n",
    "plt.title('Regresión Lineal')\n",
    "plt.xlabel('Nivel')\n",
    "plt.ylabel('Salario')\n",
    "plt.show()\n",
    "print('Para un nivel 6.5 cobraría ', y_pred)"
   ]
  },
  {
   "cell_type": "code",
   "execution_count": 9,
   "metadata": {},
   "outputs": [
    {
     "name": "stdout",
     "output_type": "stream",
     "text": [
      "RMSE =  [ 48827.2464921]\n"
     ]
    }
   ],
   "source": [
    "# 9. Cálculo del error\n",
    "from statsmodels.tools.eval_measures import rmse\n",
    "RMSE = rmse(y, y_fit)\n",
    "print('RMSE = ', RMSE)"
   ]
  },
  {
   "cell_type": "markdown",
   "metadata": {},
   "source": [
    "# Conclusión\n",
    "---\n",
    "Hemos visto en el tema anterior como los árboles de decisión os devolvían el resultado del nodo hoja resultante de cumplirse todas las condiciones en los nodos rama hasta él. El bosque está creando *n* árboles como este y promedia el resultado de los *n* nodos hoja resultantes.  \n",
    "Tiene sentido además que no prediga de buena forma el último de los valores correspondiente al CEO ya que como vemos se sale del patrón."
   ]
  }
 ],
 "metadata": {
  "kernelspec": {
   "display_name": "Python 3",
   "language": "python",
   "name": "python3"
  },
  "language_info": {
   "codemirror_mode": {
    "name": "ipython",
    "version": 3
   },
   "file_extension": ".py",
   "mimetype": "text/x-python",
   "name": "python",
   "nbconvert_exporter": "python",
   "pygments_lexer": "ipython3",
   "version": "3.6.3"
  }
 },
 "nbformat": 4,
 "nbformat_minor": 2
}
