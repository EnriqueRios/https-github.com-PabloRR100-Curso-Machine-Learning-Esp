{
 "cells": [
  {
   "cell_type": "markdown",
   "metadata": {},
   "source": [
    "# Búsqueda - Search\n",
    "---\n",
    "\n",
    "## Contenidos\n",
    "---\n",
    "\n",
    "1. Introducción\n",
    "2. Dirección de la Búsqueda\n",
    "\n",
    "## 1 - Introducción\n",
    "---\n",
    "\n",
    "### El mundo de los estados\n",
    "En el mundo de la IA, la toma de decisiones en función de las condiciones del **entorno** es llevada a cabo por lo que denominamos un **agente**. Para hacerlo más visual, este agente puede ser entendido como un robot que se programa.  \n",
    "\n",
    "Entonces, ¿cómo se programa este robot para que tome una decisión? La solución está en la **búsqueda** entre las posibles acciones (y combinaciones de acciones consecutivas) que puede tomar desde su **estado inicial** hasta su **estado objetivo**. A cada decisión que tome, realizará una **acción** que le llevará hasta el estado siguiente, que pasará a ser su **estado actual**.  \n",
    "\n",
    "<img src='./Imagenes/espacio_estados.png'>\n",
    "\n",
    "Los elementos que permiten la transacción entre estados reciben el nombre de **operadores**.  \n",
    "Por tanto, para resolver un problema mediante búsqueda, debe quedar definido:\n",
    "\n",
    "###### Descriptores de estado\n",
    "Estructura simbólica que representa un estado\n",
    "\n",
    "###### Descriptores de operación\n",
    "Herramientas computaciones capaz de transformar la representación del estado\n",
    "\n",
    "###### Descriptores del algoritmo de búsqueda\n",
    "Orden en que se aplican los operadores sobre los estados.  \n",
    "\n",
    "\n",
    "### Problema visual - El mundo de los bloques\n",
    "En el problema el mundo de los bloques, un robot que es un brazo móvil tiene una bloques que debe desplazar desde un estado inicial hasta un estado final; y tiene un repertorio finito de acciones para alcanzar un objetivo.  \n",
    "\n",
    "El planteamiento del problema modelo propuesto para el generador de planes automático utilizado en robótica [**STRIPS**](https://es.wikipedia.org/wiki/STRIPS), que es un referentes para toda la investigación posterior en el mundo del **Planning** y los algoritmos de **Search (búsqueda)**.  \n",
    "\n",
    "```\n",
    "Una instancia de STRIPS se compone de:\n",
    "(1) Un estado inicial\n",
    "(2) Un estado objetivo\n",
    "(3) Un conjunto de acciones:\n",
    "    (3.1) Precondiciones -> prerrequisitos que se han de cumplir en el entorno para poder realizar la accion\n",
    "    (3.2) Postcondiciones -> consecuencias sobre los estados tras realizar la acciónÇ\n",
    "```\n"
   ]
  },
  {
   "cell_type": "markdown",
   "metadata": {},
   "source": [
    "## 2 - Dirección de la búsqueda\n",
    "---\n",
    "\n",
    "El objetivo de la búsqueda es encontrar un camino a trabes del conjunto de estados entre el estado inicial y el objetivo. Esta búsqueda puede realizarse en dos direcciones:  \n",
    "\n",
    "### Búsqueda hacia adelante - Forward Search\n",
    "Se trata de una búsqueda guiada por datos. Aplicando las operaciones disponibles en cada estado para ir avanzando de uno a otro hasta encontrar el estado objetivo.\n",
    "\n",
    "\n",
    "\n",
    "### Búsqueda hacia atrás - Backward Search\n",
    "Se trata de partir del estado objetivo hasta llegar al estado inicial. \n",
    "\n",
    "\n"
   ]
  },
  {
   "cell_type": "code",
   "execution_count": null,
   "metadata": {},
   "outputs": [],
   "source": [
    " "
   ]
  }
 ],
 "metadata": {
  "kernelspec": {
   "display_name": "Python 3",
   "language": "python",
   "name": "python3"
  },
  "language_info": {
   "codemirror_mode": {
    "name": "ipython",
    "version": 3
   },
   "file_extension": ".py",
   "mimetype": "text/x-python",
   "name": "python",
   "nbconvert_exporter": "python",
   "pygments_lexer": "ipython3",
   "version": "3.6.4"
  }
 },
 "nbformat": 4,
 "nbformat_minor": 2
}
